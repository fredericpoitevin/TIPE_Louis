{
  "nbformat": 4,
  "nbformat_minor": 0,
  "metadata": {
    "colab": {
      "name": "TIPE.ipynb",
      "provenance": [],
      "authorship_tag": "ABX9TyMD0vSJ4DqHE/L5AbBUfQ6M",
      "include_colab_link": true
    },
    "kernelspec": {
      "name": "python3",
      "display_name": "Python 3"
    }
  },
  "cells": [
    {
      "cell_type": "markdown",
      "metadata": {
        "id": "view-in-github",
        "colab_type": "text"
      },
      "source": [
        "<a href=\"https://colab.research.google.com/github/fredericpoitevin/TIPE_Louis/blob/main/TIPE.ipynb\" target=\"_parent\"><img src=\"https://colab.research.google.com/assets/colab-badge.svg\" alt=\"Open In Colab\"/></a>"
      ]
    },
    {
      "cell_type": "markdown",
      "metadata": {
        "id": "X1wGr7dnmPDT"
      },
      "source": [
        "On a 3 variables temporelles qui dependent les unes des autres: $y$, $\\lambda$ et $\\alpha$, plus une variable externe dont elles dependent $y_B$.\n",
        "\n",
        "On part du systeme suivant (tes notes), et on veut le reecrire sous la forme explicite d'un systeme d'equadiff couplees. Pour faire simple, on va essayer de n'ecrire que des equadiff du premier ordre. Pour ca on utilise une petite astuce en introduisant une 4eme variable: $v = \\dot y$. Je ne note que la dependence a la fonction, mais c'est sous-entendu qu'on peut aussi dependre des derivees premieres.\n",
        "\n",
        "$(1)\\ \\dot{y} = f_{y}(y, v, y_B, \\gamma, \\alpha)$\n",
        "\n",
        "$(2)\\ \\dot{v} = f_{v}(y, v, y_B, \\gamma, \\alpha)$\n",
        "\n",
        "$(3)\\ \\dot{y_B} = f_{v_B}(y, v, y_B, \\gamma, \\alpha)$\n",
        "\n",
        "$(4)\\ \\dot{\\gamma} = f_{\\gamma}(y, v, y_B, \\gamma, \\alpha)$\n",
        "\n",
        "$(5)\\ \\dot{\\alpha} = f_{\\alpha}(y, v, y_B, \\gamma, \\alpha)$\n",
        "\n",
        "\n",
        "En pratique, les fonctions $f$ ne dependent pas de toutes les 5 variables a chaque fois, mais c'est juste pour illustrer l'idee.\n",
        "\n",
        "Par exemple, on peut facilement simplifier (1) et (3). Les autres sont un peu plus complexes. Il faudra les reverifier, mais il me semble que ca donne:\n",
        "\n",
        "$(1)\\ f_{y}(y, v, y_B, \\gamma, \\alpha) = v$\n",
        "\n",
        "$(2)\\ f_{v}(y, v, y_B, \\gamma, \\alpha) = \\frac{1}{m}\\Big[\\Big(\\frac{a+b}{a+h\\tan{\\alpha}}\\Big)\\big((k-c\\dot\\alpha\\tan{(\\alpha+\\beta)})\\gamma+\\dot\\gamma\\big) - mg\\Big]$\n",
        "\n",
        "$(3)\\ f_{y_B}(y, v, y_B, \\gamma, \\alpha) = v_B$\n",
        "\n",
        "$(4)\\ f_{\\gamma}(y, v, y_B, \\gamma, \\alpha) = -v_{B} + \\dot\\alpha\\big(c\\cos{\\alpha} - h\\sin{\\alpha}\\big)$\n",
        "\n",
        "$(5)\\ f_{\\alpha}(y, v, y_B, \\gamma, \\alpha) = \\frac{v}{a\\cos{\\alpha} - h\\sin{\\alpha}}$\n",
        "\n",
        "Comme on a un systeme d'equations du premier ordre, on peut utiliser la librairie `odeint`"
      ]
    },
    {
      "cell_type": "code",
      "metadata": {
        "id": "KSwoSqS9iREj"
      },
      "source": [
        "import numpy as np\n",
        "from scipy.integrate import odeint\n",
        "from scipy.misc import derivative"
      ],
      "execution_count": 1,
      "outputs": []
    },
    {
      "cell_type": "code",
      "metadata": {
        "id": "46owyEaa2LoA"
      },
      "source": [
        "def dalphadt(v,alpha,a,h):\n",
        "  return v/(a*np.cos(alpha) - h*np.sin(alpha))\n",
        "\n",
        "def dgammadt(v,vB,alpha,a,c,h):\n",
        "  return -vB + (c*np.cos(alpha) - h*np.sin(alpha))*dalphadt(v,alpha,a,h)\n",
        "\n",
        "def dvdt(v,vB,alpha,gamma,a,b,c,h,k,beta,masse,g):\n",
        "  prefacteur1 = (a+b)/(a+h*np.tan(alpha))\n",
        "  prefacteur2 = k - c*np.tan(alpha+beta)*dalphadt(v,alpha,a,h)\n",
        "  return (prefacteur1*(prefacteur2*gamma + dgammadt(v,vB,alpha,a,c,h)) -masse*g)/masse\n",
        "\n",
        "def equadiffs(y, t, a,b,c,h,k,beta,masse,g):\n",
        "  \"\"\"equadiffs:\n",
        "  On definit notre systeme d'equadiff pour le donner a odeint\n",
        "  \"\"\"\n",
        "  position, vitesse, yB, vB, gamma, alpha = y\n",
        "  dydt = [vitesse,\n",
        "          dvdt(vitesse,vB,alpha,gamma,a,b,c,h,k,beta,masse,g),\n",
        "          vB,\n",
        "          0,\n",
        "          dgammadt(vitesse,vB,alpha,a,c,h),\n",
        "          dalphadt(vitesse,alpha,a,h)]\n",
        "  return dydt"
      ],
      "execution_count": 20,
      "outputs": []
    },
    {
      "cell_type": "code",
      "metadata": {
        "id": "DHoMpmH82bPD"
      },
      "source": [
        "y0 = [0.,1.,1.,1.,2.,0.]"
      ],
      "execution_count": 21,
      "outputs": []
    },
    {
      "cell_type": "code",
      "metadata": {
        "id": "yHQ5fFSF-Gtu"
      },
      "source": [
        "t = np.linspace(0,10,101)"
      ],
      "execution_count": 22,
      "outputs": []
    },
    {
      "cell_type": "code",
      "metadata": {
        "id": "Xp585R2g-3eo"
      },
      "source": [
        "a=1.\n",
        "b=1.\n",
        "c=1.\n",
        "h=1.\n",
        "k=1.\n",
        "beta=1.\n",
        "masse=1.\n",
        "g=1."
      ],
      "execution_count": 23,
      "outputs": []
    },
    {
      "cell_type": "code",
      "metadata": {
        "colab": {
          "base_uri": "https://localhost:8080/"
        },
        "id": "8TY9RgJR-Itg",
        "outputId": "463024a3-187a-4974-e161-236a2aa71502"
      },
      "source": [
        "sol = odeint(equadiffs, y0, t, args=(a,b,c,h,k,beta,masse,g))"
      ],
      "execution_count": 43,
      "outputs": [
        {
          "output_type": "stream",
          "text": [
            "/usr/local/lib/python3.6/dist-packages/scipy/integrate/odepack.py:248: ODEintWarning: Excess work done on this call (perhaps wrong Dfun type). Run with full_output = 1 to get quantitative information.\n",
            "  warnings.warn(warning_msg, ODEintWarning)\n"
          ],
          "name": "stderr"
        }
      ]
    },
    {
      "cell_type": "code",
      "metadata": {
        "colab": {
          "base_uri": "https://localhost:8080/",
          "height": 279
        },
        "id": "iN2shboq_nI6",
        "outputId": "6afb733b-0d62-4ab6-c7c9-7c8cc8218c44"
      },
      "source": [
        "from matplotlib import pyplot as plt\n",
        "plt.plot(t, sol[:, 0], 'b', label='position(t)')\n",
        "plt.plot(t, sol[:, 2], 'g', label='yB(t)')\n",
        "plt.legend(loc='best')\n",
        "plt.xlabel('t')\n",
        "plt.grid()\n",
        "plt.show()"
      ],
      "execution_count": 45,
      "outputs": [
        {
          "output_type": "display_data",
          "data": {
            "image/png": "[encoded data removed]",
            "text/plain": [
              "<Figure size 432x288 with 1 Axes>"
            ]
          },
          "metadata": {
            "tags": [],
            "needs_background": "light"
          }
        }
      ]
    },
    {
      "cell_type": "code",
      "metadata": {
        "id": "wpvEDEVh_64r"
      },
      "source": [
        ""
      ],
      "execution_count": 38,
      "outputs": []
    },
    {
      "cell_type": "code",
      "metadata": {
        "id": "Of-ZJIPc_9LE"
      },
      "source": [
        ""
      ],
      "execution_count": null,
      "outputs": []
    }
  ]
}